{
 "cells": [
  {
   "cell_type": "code",
   "execution_count": 1,
   "metadata": {},
   "outputs": [],
   "source": [
    "# source: https://scikit-learn.org/stable/modules/cross_validation.html\n",
    "import numpy as np\n",
    "from sklearn.model_selection import cross_val_score, train_test_split\n",
    "from sklearn import datasets\n",
    "from sklearn.neighbors import KNeighborsClassifier"
   ]
  },
  {
   "cell_type": "code",
   "execution_count": 2,
   "metadata": {},
   "outputs": [
    {
     "name": "stdout",
     "output_type": "stream",
     "text": [
      "(150, 4) (150,)\n"
     ]
    }
   ],
   "source": [
    "# load data\n",
    "iris = datasets.load_iris()\n",
    "print(iris.data.shape, iris.target.shape)"
   ]
  },
  {
   "cell_type": "code",
   "execution_count": 3,
   "metadata": {},
   "outputs": [
    {
     "name": "stdout",
     "output_type": "stream",
     "text": [
      "train data: (90, 4) (90,)\n",
      "test data: (60, 4) (60,)\n"
     ]
    }
   ],
   "source": [
    "# randomly split train/test data\n",
    "X_train, X_test, y_train, y_test = train_test_split(iris.data, iris.target, test_size=0.4, random_state=0)\n",
    "print(\"train data:\", X_train.shape, y_train.shape)\n",
    "print(\"test data:\", X_test.shape, y_test.shape)"
   ]
  },
  {
   "cell_type": "code",
   "execution_count": 4,
   "metadata": {},
   "outputs": [],
   "source": [
    "# this is how we define KNN using sklearn\n",
    "clf1 = KNeighborsClassifier(n_neighbors=1)\n",
    "clf2 = KNeighborsClassifier(n_neighbors=2)\n",
    "clf3 = KNeighborsClassifier(n_neighbors=3)\n",
    "clf4 = KNeighborsClassifier(n_neighbors=4)\n",
    "clf5 = KNeighborsClassifier(n_neighbors=5)"
   ]
  },
  {
   "cell_type": "code",
   "execution_count": 5,
   "metadata": {},
   "outputs": [
    {
     "name": "stdout",
     "output_type": "stream",
     "text": [
      "0.976388888888889\n",
      "0.9658625730994151\n",
      "0.9652777777777779\n",
      "0.9888888888888889\n",
      "0.976388888888889\n"
     ]
    }
   ],
   "source": [
    "# do 5 folds cross-validation of the whole training data\n",
    "scores = cross_val_score(clf1, X_train, y_train, cv=5)\n",
    "print(np.mean(scores))\n",
    "scores = cross_val_score(clf2, X_train, y_train, cv=5)\n",
    "print(np.mean(scores))\n",
    "scores = cross_val_score(clf3, X_train, y_train, cv=5)\n",
    "print(np.mean(scores))\n",
    "scores = cross_val_score(clf4, X_train, y_train, cv=5)\n",
    "print(np.mean(scores))\n",
    "scores = cross_val_score(clf5, X_train, y_train, cv=5)\n",
    "print(np.mean(scores))"
   ]
  },
  {
   "cell_type": "code",
   "execution_count": 6,
   "metadata": {},
   "outputs": [
    {
     "name": "stdout",
     "output_type": "stream",
     "text": [
      "0.9\n"
     ]
    }
   ],
   "source": [
    "# pick the best clf based on performance on validation data\n",
    "clf4.fit(X_train,y_train)\n",
    "print(clf4.score(X_test,y_test))"
   ]
  },
  {
   "cell_type": "code",
   "execution_count": null,
   "metadata": {},
   "outputs": [],
   "source": []
  }
 ],
 "metadata": {
  "kernelspec": {
   "display_name": "Python 3",
   "language": "python",
   "name": "python3"
  },
  "language_info": {
   "codemirror_mode": {
    "name": "ipython",
    "version": 3
   },
   "file_extension": ".py",
   "mimetype": "text/x-python",
   "name": "python",
   "nbconvert_exporter": "python",
   "pygments_lexer": "ipython3",
   "version": "3.6.8"
  }
 },
 "nbformat": 4,
 "nbformat_minor": 2
}
